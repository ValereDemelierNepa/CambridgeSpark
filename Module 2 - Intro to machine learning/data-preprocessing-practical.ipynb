{
 "cells": [
  {
   "cell_type": "markdown",
   "metadata": {
    "slideshow": {
     "slide_type": "slide"
    }
   },
   "source": [
    "# Data Pre-Processing\n",
    "\n",
    "Aims of this practical:\n",
    "\n",
    "* Identify continuous and discrete variables\n",
    "* Learn how to standardise and normalise data\n",
    "* Deal with missing and extreme data\n",
    "* Transform discrete variables into numerical ones\n",
    "\n",
    "In this practical, we use `sklearn` and other libraries we have seen so far:"
   ]
  },
  {
   "cell_type": "code",
   "execution_count": 44,
   "metadata": {
    "slideshow": {
     "slide_type": "slide"
    }
   },
   "outputs": [],
   "source": [
    "import numpy as np\n",
    "import pandas as pd\n",
    "import matplotlib.pyplot as plt\n",
    "import seaborn as sns"
   ]
  },
  {
   "cell_type": "markdown",
   "metadata": {
    "slideshow": {
     "slide_type": "slide"
    }
   },
   "source": [
    "## Understanding the data\n",
    "\n",
    "`rental_data.csv` contains 410 records, each one representing a rental property. The variables associated with each property record indicate the neighbourhood it is in, how many people it accommodates, how many bathrooms and bedrooms there are, the rental price, the property size in square feet, the score given by reviewers and the number of reviews.\n",
    "\n",
    "Let's load the file and look at each variable in turn."
   ]
  },
  {
   "cell_type": "code",
   "execution_count": 45,
   "metadata": {
    "slideshow": {
     "slide_type": "slide"
    }
   },
   "outputs": [
    {
     "name": "stdout",
     "output_type": "stream",
     "text": [
      "<class 'pandas.core.frame.DataFrame'>\n",
      "RangeIndex: 410 entries, 0 to 409\n",
      "Data columns (total 9 columns):\n",
      " #   Column                Non-Null Count  Dtype  \n",
      "---  ------                --------------  -----  \n",
      " 0   host_neighbourhood    410 non-null    object \n",
      " 1   accommodates          410 non-null    int64  \n",
      " 2   bathrooms             410 non-null    float64\n",
      " 3   bedrooms              410 non-null    int64  \n",
      " 4   price                 410 non-null    int64  \n",
      " 5   review_scores_rating  402 non-null    float64\n",
      " 6   square_feet           410 non-null    int64  \n",
      " 7   number_of_reviews     410 non-null    int64  \n",
      " 8   reviews_per_month     410 non-null    float64\n",
      "dtypes: float64(3), int64(5), object(1)\n",
      "memory usage: 29.0+ KB\n"
     ]
    },
    {
     "data": {
      "text/html": [
       "<div>\n",
       "<style scoped>\n",
       "    .dataframe tbody tr th:only-of-type {\n",
       "        vertical-align: middle;\n",
       "    }\n",
       "\n",
       "    .dataframe tbody tr th {\n",
       "        vertical-align: top;\n",
       "    }\n",
       "\n",
       "    .dataframe thead th {\n",
       "        text-align: right;\n",
       "    }\n",
       "</style>\n",
       "<table border=\"1\" class=\"dataframe\">\n",
       "  <thead>\n",
       "    <tr style=\"text-align: right;\">\n",
       "      <th></th>\n",
       "      <th>accommodates</th>\n",
       "      <th>bathrooms</th>\n",
       "      <th>bedrooms</th>\n",
       "      <th>price</th>\n",
       "      <th>review_scores_rating</th>\n",
       "      <th>square_feet</th>\n",
       "      <th>number_of_reviews</th>\n",
       "      <th>reviews_per_month</th>\n",
       "    </tr>\n",
       "  </thead>\n",
       "  <tbody>\n",
       "    <tr>\n",
       "      <th>count</th>\n",
       "      <td>410.000000</td>\n",
       "      <td>410.000000</td>\n",
       "      <td>410.000000</td>\n",
       "      <td>410.000000</td>\n",
       "      <td>402.000000</td>\n",
       "      <td>410.000000</td>\n",
       "      <td>410.000000</td>\n",
       "      <td>410.000000</td>\n",
       "    </tr>\n",
       "    <tr>\n",
       "      <th>mean</th>\n",
       "      <td>3.126829</td>\n",
       "      <td>1.151220</td>\n",
       "      <td>2.329268</td>\n",
       "      <td>244.029268</td>\n",
       "      <td>95.194030</td>\n",
       "      <td>599.536585</td>\n",
       "      <td>71.243902</td>\n",
       "      <td>5.936992</td>\n",
       "    </tr>\n",
       "    <tr>\n",
       "      <th>std</th>\n",
       "      <td>1.832473</td>\n",
       "      <td>0.386586</td>\n",
       "      <td>14.788364</td>\n",
       "      <td>1197.346763</td>\n",
       "      <td>3.838662</td>\n",
       "      <td>1410.699107</td>\n",
       "      <td>94.955138</td>\n",
       "      <td>7.912928</td>\n",
       "    </tr>\n",
       "    <tr>\n",
       "      <th>min</th>\n",
       "      <td>1.000000</td>\n",
       "      <td>1.000000</td>\n",
       "      <td>0.000000</td>\n",
       "      <td>28.000000</td>\n",
       "      <td>75.000000</td>\n",
       "      <td>0.000000</td>\n",
       "      <td>0.000000</td>\n",
       "      <td>0.000000</td>\n",
       "    </tr>\n",
       "    <tr>\n",
       "      <th>25%</th>\n",
       "      <td>2.000000</td>\n",
       "      <td>1.000000</td>\n",
       "      <td>1.000000</td>\n",
       "      <td>99.000000</td>\n",
       "      <td>93.000000</td>\n",
       "      <td>0.000000</td>\n",
       "      <td>13.000000</td>\n",
       "      <td>1.083333</td>\n",
       "    </tr>\n",
       "    <tr>\n",
       "      <th>50%</th>\n",
       "      <td>2.000000</td>\n",
       "      <td>1.000000</td>\n",
       "      <td>1.000000</td>\n",
       "      <td>135.000000</td>\n",
       "      <td>96.000000</td>\n",
       "      <td>479.500000</td>\n",
       "      <td>37.000000</td>\n",
       "      <td>3.083333</td>\n",
       "    </tr>\n",
       "    <tr>\n",
       "      <th>75%</th>\n",
       "      <td>4.000000</td>\n",
       "      <td>1.000000</td>\n",
       "      <td>2.000000</td>\n",
       "      <td>199.000000</td>\n",
       "      <td>98.000000</td>\n",
       "      <td>807.000000</td>\n",
       "      <td>88.000000</td>\n",
       "      <td>7.333333</td>\n",
       "    </tr>\n",
       "    <tr>\n",
       "      <th>max</th>\n",
       "      <td>16.000000</td>\n",
       "      <td>4.000000</td>\n",
       "      <td>300.000000</td>\n",
       "      <td>20000.000000</td>\n",
       "      <td>100.000000</td>\n",
       "      <td>22600.000000</td>\n",
       "      <td>570.000000</td>\n",
       "      <td>47.500000</td>\n",
       "    </tr>\n",
       "  </tbody>\n",
       "</table>\n",
       "</div>"
      ],
      "text/plain": [
       "       accommodates   bathrooms    bedrooms         price  \\\n",
       "count    410.000000  410.000000  410.000000    410.000000   \n",
       "mean       3.126829    1.151220    2.329268    244.029268   \n",
       "std        1.832473    0.386586   14.788364   1197.346763   \n",
       "min        1.000000    1.000000    0.000000     28.000000   \n",
       "25%        2.000000    1.000000    1.000000     99.000000   \n",
       "50%        2.000000    1.000000    1.000000    135.000000   \n",
       "75%        4.000000    1.000000    2.000000    199.000000   \n",
       "max       16.000000    4.000000  300.000000  20000.000000   \n",
       "\n",
       "       review_scores_rating   square_feet  number_of_reviews  \\\n",
       "count            402.000000    410.000000         410.000000   \n",
       "mean              95.194030    599.536585          71.243902   \n",
       "std                3.838662   1410.699107          94.955138   \n",
       "min               75.000000      0.000000           0.000000   \n",
       "25%               93.000000      0.000000          13.000000   \n",
       "50%               96.000000    479.500000          37.000000   \n",
       "75%               98.000000    807.000000          88.000000   \n",
       "max              100.000000  22600.000000         570.000000   \n",
       "\n",
       "       reviews_per_month  \n",
       "count         410.000000  \n",
       "mean            5.936992  \n",
       "std             7.912928  \n",
       "min             0.000000  \n",
       "25%             1.083333  \n",
       "50%             3.083333  \n",
       "75%             7.333333  \n",
       "max            47.500000  "
      ]
     },
     "execution_count": 45,
     "metadata": {},
     "output_type": "execute_result"
    }
   ],
   "source": [
    "data = pd.read_csv('rental_data.csv')\n",
    "\n",
    "data.info()\n",
    "data.describe()"
   ]
  },
  {
   "cell_type": "markdown",
   "metadata": {
    "slideshow": {
     "slide_type": "slide"
    }
   },
   "source": [
    "For each variable, is it continuous or discrete?\n",
    "\n",
    "Will it need to be pre-processed and, if so, how? What pre-processing tools would you use?"
   ]
  },
  {
   "cell_type": "code",
   "execution_count": null,
   "metadata": {
    "scrolled": true,
    "slideshow": {
     "slide_type": "slide"
    }
   },
   "outputs": [],
   "source": [
    "# Your thoughts here...\n",
    "'''\n",
    "Yes it will need to be processed. \n",
    "We can see that the data is on different scales and will therefore likely need to be scaled depending on the model we use.\n",
    "We can also see that there are discrete values so we may want to use one hot encoding to deal with this.\n",
    "Lastly the review_scores_rating column has missing values to deal with.\n",
    "'''\n"
   ]
  },
  {
   "cell_type": "markdown",
   "metadata": {
    "slideshow": {
     "slide_type": "slide"
    }
   },
   "source": [
    "### Using `ydata_profiling` to quickly explore data\n",
    "\n",
    "The `ydata_profiling` package generates detailed summaries of all variables in a dataset.\n",
    "\n",
    "It can be a great first step to explore data and see if there are any issues you need to deal with, like missing values or zeroes and so on.\n",
    "\n",
    "It renders an interactive HTML frame inside your Python notebook. If you want to save this to a file, use the `.to_json()` or `.to_html()` method of the profile object.\n",
    "\n",
    "This step can take some time to process and show the exploratory analysis."
   ]
  },
  {
   "cell_type": "code",
   "execution_count": 5,
   "metadata": {
    "slideshow": {
     "slide_type": "slide"
    }
   },
   "outputs": [
    {
     "name": "stderr",
     "output_type": "stream",
     "text": [
      "Summarize dataset:  15%|█▌        | 12/80 [00:00<00:02, 23.04it/s, scatter accommodates, accommodates]   \n"
     ]
    },
    {
     "name": "stdout",
     "output_type": "stream",
     "text": [
      "Unexpected exception formatting exception. Falling back to standard exception\n"
     ]
    },
    {
     "name": "stderr",
     "output_type": "stream",
     "text": [
      "Traceback (most recent call last):\n",
      "  File \"C:\\Users\\valere.demelier\\AppData\\Roaming\\Python\\Python311\\site-packages\\IPython\\core\\interactiveshell.py\", line 3442, in run_code\n",
      "    exec(code_obj, self.user_global_ns, self.user_ns)\n",
      "  File \"C:\\Users\\valere.demelier\\AppData\\Local\\Temp\\ipykernel_34824\\3263114789.py\", line 5, in <module>\n",
      "    profile.to_notebook_iframe()\n",
      "  File \"c:\\Users\\valere.demelier\\AppData\\Local\\Programs\\Python\\Python311\\Lib\\site-packages\\ydata_profiling\\profile_report.py\", line 500, in to_notebook_iframe\n",
      "    display(get_notebook_iframe(self.config, self))\n",
      "            ^^^^^^^^^^^^^^^^^^^^^^^^^^^^^^^^^^^^^^\n",
      "  File \"c:\\Users\\valere.demelier\\AppData\\Local\\Programs\\Python\\Python311\\Lib\\site-packages\\ydata_profiling\\report\\presentation\\flavours\\widget\\notebook.py\", line 75, in get_notebook_iframe\n",
      "    output = get_notebook_iframe_srcdoc(config, profile)\n",
      "             ^^^^^^^^^^^^^^^^^^^^^^^^^^^^^^^^^^^^^^^^^^^\n",
      "  File \"c:\\Users\\valere.demelier\\AppData\\Local\\Programs\\Python\\Python311\\Lib\\site-packages\\ydata_profiling\\report\\presentation\\flavours\\widget\\notebook.py\", line 29, in get_notebook_iframe_srcdoc\n",
      "    src = html.escape(profile.to_html())\n",
      "                      ^^^^^^^^^^^^^^^^^\n",
      "  File \"c:\\Users\\valere.demelier\\AppData\\Local\\Programs\\Python\\Python311\\Lib\\site-packages\\ydata_profiling\\profile_report.py\", line 470, in to_html\n",
      "    return self.html\n",
      "           ^^^^^^^^^\n",
      "  File \"c:\\Users\\valere.demelier\\AppData\\Local\\Programs\\Python\\Python311\\Lib\\site-packages\\ydata_profiling\\profile_report.py\", line 277, in html\n",
      "    self._html = self._render_html()\n",
      "                 ^^^^^^^^^^^^^^^^^^^\n",
      "  File \"c:\\Users\\valere.demelier\\AppData\\Local\\Programs\\Python\\Python311\\Lib\\site-packages\\ydata_profiling\\profile_report.py\", line 385, in _render_html\n",
      "    report = self.report\n",
      "             ^^^^^^^^^^^\n",
      "  File \"c:\\Users\\valere.demelier\\AppData\\Local\\Programs\\Python\\Python311\\Lib\\site-packages\\ydata_profiling\\profile_report.py\", line 271, in report\n",
      "    self._report = get_report_structure(self.config, self.description_set)\n",
      "                                                     ^^^^^^^^^^^^^^^^^^^^\n",
      "  File \"c:\\Users\\valere.demelier\\AppData\\Local\\Programs\\Python\\Python311\\Lib\\site-packages\\ydata_profiling\\profile_report.py\", line 253, in description_set\n",
      "    self._description_set = describe_df(\n",
      "                            ^^^^^^^^^^^^\n",
      "  File \"c:\\Users\\valere.demelier\\AppData\\Local\\Programs\\Python\\Python311\\Lib\\site-packages\\ydata_profiling\\model\\describe.py\", line 130, in describe\n",
      "    scatter_matrix[x][y] = progress(\n",
      "                           ^^^^^^^^^\n",
      "  File \"c:\\Users\\valere.demelier\\AppData\\Local\\Programs\\Python\\Python311\\Lib\\site-packages\\ydata_profiling\\utils\\progress_bar.py\", line 11, in inner\n",
      "    ret = fn(*args, **kwargs)\n",
      "          ^^^^^^^^^^^^^^^^^^^\n",
      "  File \"c:\\Users\\valere.demelier\\AppData\\Local\\Programs\\Python\\Python311\\Lib\\site-packages\\ydata_profiling\\model\\pairwise.py\", line 31, in get_scatter_plot\n",
      "    return scatter_pairwise(config, df_temp[x], df_temp[y], x, y)\n",
      "           ^^^^^^^^^^^^^^^^^^^^^^^^^^^^^^^^^^^^^^^^^^^^^^^^^^^^^^\n",
      "  File \"c:\\Users\\valere.demelier\\AppData\\Local\\Programs\\Python\\Python311\\Lib\\contextlib.py\", line 80, in inner\n",
      "    with self._recreate_cm():\n",
      "  File \"c:\\Users\\valere.demelier\\AppData\\Local\\Programs\\Python\\Python311\\Lib\\contextlib.py\", line 137, in __enter__\n",
      "    return next(self.gen)\n",
      "           ^^^^^^^^^^^^^^\n",
      "  File \"c:\\Users\\valere.demelier\\AppData\\Local\\Programs\\Python\\Python311\\Lib\\site-packages\\ydata_profiling\\visualisation\\context.py\", line 83, in manage_matplotlib_context\n",
      "    deregister_matplotlib_converters()  # revert to original unit registries\n",
      "    ^^^^^^^^^^^^^^^^^^^^^^^^^^^^^^^^^^\n",
      "  File \"c:\\Users\\valere.demelier\\AppData\\Local\\Programs\\Python\\Python311\\Lib\\site-packages\\pandas\\plotting\\_misc.py\", line 151, in deregister\n",
      "    <AxesSubplot: xlabel='B', ylabel='C'>,\n",
      "           ^^^^^^^^^^^^^^^^^^^^^^^^^^^^^^^\n",
      "  File \"c:\\Users\\valere.demelier\\AppData\\Local\\Programs\\Python\\Python311\\Lib\\site-packages\\pandas\\plotting\\_core.py\", line 1947, in _get_plot_backend\n",
      "  File \"c:\\Users\\valere.demelier\\AppData\\Local\\Programs\\Python\\Python311\\Lib\\site-packages\\pandas\\plotting\\_core.py\", line 1877, in _load_backend\n",
      "ImportError: matplotlib is required for plotting when the default backend \"matplotlib\" is selected.\n",
      "\n",
      "During handling of the above exception, another exception occurred:\n",
      "\n",
      "Traceback (most recent call last):\n",
      "  File \"C:\\Users\\valere.demelier\\AppData\\Roaming\\Python\\Python311\\site-packages\\IPython\\core\\interactiveshell.py\", line 2057, in showtraceback\n",
      "    stb = self.InteractiveTB.structured_traceback(\n",
      "          ^^^^^^^^^^^^^^^^^^^^^^^^^^^^^^^^^^^^^^^^\n",
      "  File \"C:\\Users\\valere.demelier\\AppData\\Roaming\\Python\\Python311\\site-packages\\IPython\\core\\ultratb.py\", line 1118, in structured_traceback\n",
      "    return FormattedTB.structured_traceback(\n",
      "           ^^^^^^^^^^^^^^^^^^^^^^^^^^^^^^^^^\n",
      "  File \"C:\\Users\\valere.demelier\\AppData\\Roaming\\Python\\Python311\\site-packages\\IPython\\core\\ultratb.py\", line 1012, in structured_traceback\n",
      "    return VerboseTB.structured_traceback(\n",
      "           ^^^^^^^^^^^^^^^^^^^^^^^^^^^^^^^\n",
      "  File \"C:\\Users\\valere.demelier\\AppData\\Roaming\\Python\\Python311\\site-packages\\IPython\\core\\ultratb.py\", line 865, in structured_traceback\n",
      "    formatted_exception = self.format_exception_as_a_whole(etype, evalue, etb, number_of_lines_of_context,\n",
      "                          ^^^^^^^^^^^^^^^^^^^^^^^^^^^^^^^^^^^^^^^^^^^^^^^^^^^^^^^^^^^^^^^^^^^^^^^^^^^^^^^^\n",
      "  File \"C:\\Users\\valere.demelier\\AppData\\Roaming\\Python\\Python311\\site-packages\\IPython\\core\\ultratb.py\", line 818, in format_exception_as_a_whole\n",
      "    frames.append(self.format_record(r))\n",
      "                  ^^^^^^^^^^^^^^^^^^^^^\n",
      "  File \"C:\\Users\\valere.demelier\\AppData\\Roaming\\Python\\Python311\\site-packages\\IPython\\core\\ultratb.py\", line 736, in format_record\n",
      "    result += ''.join(_format_traceback_lines(frame_info.lines, Colors, self.has_colors, lvals))\n",
      "                                              ^^^^^^^^^^^^^^^^\n",
      "  File \"C:\\Users\\valere.demelier\\AppData\\Roaming\\Python\\Python311\\site-packages\\stack_data\\utils.py\", line 144, in cached_property_wrapper\n",
      "    value = obj.__dict__[self.func.__name__] = self.func(obj)\n",
      "                                               ^^^^^^^^^^^^^^\n",
      "  File \"C:\\Users\\valere.demelier\\AppData\\Roaming\\Python\\Python311\\site-packages\\stack_data\\core.py\", line 734, in lines\n",
      "    pieces = self.included_pieces\n",
      "             ^^^^^^^^^^^^^^^^^^^^\n",
      "  File \"C:\\Users\\valere.demelier\\AppData\\Roaming\\Python\\Python311\\site-packages\\stack_data\\utils.py\", line 144, in cached_property_wrapper\n",
      "    value = obj.__dict__[self.func.__name__] = self.func(obj)\n",
      "                                               ^^^^^^^^^^^^^^\n",
      "  File \"C:\\Users\\valere.demelier\\AppData\\Roaming\\Python\\Python311\\site-packages\\stack_data\\core.py\", line 681, in included_pieces\n",
      "    pos = scope_pieces.index(self.executing_piece)\n",
      "                             ^^^^^^^^^^^^^^^^^^^^\n",
      "  File \"C:\\Users\\valere.demelier\\AppData\\Roaming\\Python\\Python311\\site-packages\\stack_data\\utils.py\", line 144, in cached_property_wrapper\n",
      "    value = obj.__dict__[self.func.__name__] = self.func(obj)\n",
      "                                               ^^^^^^^^^^^^^^\n",
      "  File \"C:\\Users\\valere.demelier\\AppData\\Roaming\\Python\\Python311\\site-packages\\stack_data\\core.py\", line 660, in executing_piece\n",
      "    return only(\n",
      "           ^^^^^\n",
      "  File \"C:\\Users\\valere.demelier\\AppData\\Roaming\\Python\\Python311\\site-packages\\executing\\executing.py\", line 190, in only\n",
      "    raise NotOneValueFound('Expected one value, found 0')\n",
      "executing.executing.NotOneValueFound: Expected one value, found 0\n"
     ]
    }
   ],
   "source": [
    "from ydata_profiling import ProfileReport\n",
    "\n",
    "profile = ProfileReport(df=data, title=\"Pandas Profiling Report\")\n",
    "\n",
    "profile.to_notebook_iframe()"
   ]
  },
  {
   "cell_type": "markdown",
   "metadata": {
    "slideshow": {
     "slide_type": "slide"
    }
   },
   "source": [
    "### Sanity checking\n",
    "\n",
    "There are values of `0`s for some rows for the columns `number_of_reviews` and `reviews_per_month`. This is  plausible since some properties can have no reviews just yet.\n",
    "\n",
    "Examine the rows where either of these variables is equal to zero."
   ]
  },
  {
   "cell_type": "code",
   "execution_count": 46,
   "metadata": {
    "slideshow": {
     "slide_type": "slide"
    }
   },
   "outputs": [
    {
     "data": {
      "text/html": [
       "<div>\n",
       "<style scoped>\n",
       "    .dataframe tbody tr th:only-of-type {\n",
       "        vertical-align: middle;\n",
       "    }\n",
       "\n",
       "    .dataframe tbody tr th {\n",
       "        vertical-align: top;\n",
       "    }\n",
       "\n",
       "    .dataframe thead th {\n",
       "        text-align: right;\n",
       "    }\n",
       "</style>\n",
       "<table border=\"1\" class=\"dataframe\">\n",
       "  <thead>\n",
       "    <tr style=\"text-align: right;\">\n",
       "      <th></th>\n",
       "      <th>host_neighbourhood</th>\n",
       "      <th>accommodates</th>\n",
       "      <th>bathrooms</th>\n",
       "      <th>bedrooms</th>\n",
       "      <th>price</th>\n",
       "      <th>review_scores_rating</th>\n",
       "      <th>square_feet</th>\n",
       "      <th>number_of_reviews</th>\n",
       "      <th>reviews_per_month</th>\n",
       "    </tr>\n",
       "  </thead>\n",
       "  <tbody>\n",
       "    <tr>\n",
       "      <th>0</th>\n",
       "      <td>Indische Buurt</td>\n",
       "      <td>4</td>\n",
       "      <td>1.0</td>\n",
       "      <td>2</td>\n",
       "      <td>750</td>\n",
       "      <td>NaN</td>\n",
       "      <td>592</td>\n",
       "      <td>0</td>\n",
       "      <td>0.0</td>\n",
       "    </tr>\n",
       "    <tr>\n",
       "      <th>103</th>\n",
       "      <td>Grachtengordel</td>\n",
       "      <td>4</td>\n",
       "      <td>1.0</td>\n",
       "      <td>1</td>\n",
       "      <td>130</td>\n",
       "      <td>NaN</td>\n",
       "      <td>700</td>\n",
       "      <td>0</td>\n",
       "      <td>0.0</td>\n",
       "    </tr>\n",
       "    <tr>\n",
       "      <th>136</th>\n",
       "      <td>Indische Buurt</td>\n",
       "      <td>2</td>\n",
       "      <td>1.0</td>\n",
       "      <td>1</td>\n",
       "      <td>150</td>\n",
       "      <td>NaN</td>\n",
       "      <td>753</td>\n",
       "      <td>0</td>\n",
       "      <td>0.0</td>\n",
       "    </tr>\n",
       "    <tr>\n",
       "      <th>155</th>\n",
       "      <td>Oud-West</td>\n",
       "      <td>4</td>\n",
       "      <td>1.0</td>\n",
       "      <td>2</td>\n",
       "      <td>139</td>\n",
       "      <td>86.0</td>\n",
       "      <td>70</td>\n",
       "      <td>0</td>\n",
       "      <td>0.0</td>\n",
       "    </tr>\n",
       "    <tr>\n",
       "      <th>160</th>\n",
       "      <td>Indische Buurt</td>\n",
       "      <td>2</td>\n",
       "      <td>1.0</td>\n",
       "      <td>1</td>\n",
       "      <td>115</td>\n",
       "      <td>92.0</td>\n",
       "      <td>1453</td>\n",
       "      <td>0</td>\n",
       "      <td>0.0</td>\n",
       "    </tr>\n",
       "    <tr>\n",
       "      <th>225</th>\n",
       "      <td>Oud-West</td>\n",
       "      <td>3</td>\n",
       "      <td>1.0</td>\n",
       "      <td>3</td>\n",
       "      <td>150</td>\n",
       "      <td>95.0</td>\n",
       "      <td>1023</td>\n",
       "      <td>0</td>\n",
       "      <td>0.0</td>\n",
       "    </tr>\n",
       "    <tr>\n",
       "      <th>307</th>\n",
       "      <td>Indische Buurt</td>\n",
       "      <td>4</td>\n",
       "      <td>2.5</td>\n",
       "      <td>2</td>\n",
       "      <td>250</td>\n",
       "      <td>NaN</td>\n",
       "      <td>215</td>\n",
       "      <td>0</td>\n",
       "      <td>0.0</td>\n",
       "    </tr>\n",
       "    <tr>\n",
       "      <th>311</th>\n",
       "      <td>Oud-West</td>\n",
       "      <td>3</td>\n",
       "      <td>1.0</td>\n",
       "      <td>2</td>\n",
       "      <td>120</td>\n",
       "      <td>NaN</td>\n",
       "      <td>807</td>\n",
       "      <td>0</td>\n",
       "      <td>0.0</td>\n",
       "    </tr>\n",
       "    <tr>\n",
       "      <th>315</th>\n",
       "      <td>Grachtengordel</td>\n",
       "      <td>3</td>\n",
       "      <td>1.0</td>\n",
       "      <td>2</td>\n",
       "      <td>110</td>\n",
       "      <td>NaN</td>\n",
       "      <td>592</td>\n",
       "      <td>0</td>\n",
       "      <td>0.0</td>\n",
       "    </tr>\n",
       "    <tr>\n",
       "      <th>376</th>\n",
       "      <td>De Pijp</td>\n",
       "      <td>2</td>\n",
       "      <td>1.0</td>\n",
       "      <td>1</td>\n",
       "      <td>95</td>\n",
       "      <td>NaN</td>\n",
       "      <td>0</td>\n",
       "      <td>0</td>\n",
       "      <td>0.0</td>\n",
       "    </tr>\n",
       "    <tr>\n",
       "      <th>409</th>\n",
       "      <td>Grachtengordel</td>\n",
       "      <td>10</td>\n",
       "      <td>2.5</td>\n",
       "      <td>5</td>\n",
       "      <td>444</td>\n",
       "      <td>NaN</td>\n",
       "      <td>0</td>\n",
       "      <td>0</td>\n",
       "      <td>0.0</td>\n",
       "    </tr>\n",
       "  </tbody>\n",
       "</table>\n",
       "</div>"
      ],
      "text/plain": [
       "    host_neighbourhood  accommodates  bathrooms  bedrooms  price  \\\n",
       "0       Indische Buurt             4        1.0         2    750   \n",
       "103     Grachtengordel             4        1.0         1    130   \n",
       "136     Indische Buurt             2        1.0         1    150   \n",
       "155           Oud-West             4        1.0         2    139   \n",
       "160     Indische Buurt             2        1.0         1    115   \n",
       "225           Oud-West             3        1.0         3    150   \n",
       "307     Indische Buurt             4        2.5         2    250   \n",
       "311           Oud-West             3        1.0         2    120   \n",
       "315     Grachtengordel             3        1.0         2    110   \n",
       "376            De Pijp             2        1.0         1     95   \n",
       "409     Grachtengordel            10        2.5         5    444   \n",
       "\n",
       "     review_scores_rating  square_feet  number_of_reviews  reviews_per_month  \n",
       "0                     NaN          592                  0                0.0  \n",
       "103                   NaN          700                  0                0.0  \n",
       "136                   NaN          753                  0                0.0  \n",
       "155                  86.0           70                  0                0.0  \n",
       "160                  92.0         1453                  0                0.0  \n",
       "225                  95.0         1023                  0                0.0  \n",
       "307                   NaN          215                  0                0.0  \n",
       "311                   NaN          807                  0                0.0  \n",
       "315                   NaN          592                  0                0.0  \n",
       "376                   NaN            0                  0                0.0  \n",
       "409                   NaN            0                  0                0.0  "
      ]
     },
     "execution_count": 46,
     "metadata": {},
     "output_type": "execute_result"
    }
   ],
   "source": [
    "# Your code here...\n",
    "# Filter data to where number_of_reviews and reviews_per_month are both 0\n",
    "zero_reviews = data[(data['number_of_reviews'] == 0) & (data['reviews_per_month'] == 0)]\n",
    "zero_reviews\n"
   ]
  },
  {
   "cell_type": "markdown",
   "metadata": {
    "slideshow": {
     "slide_type": "slide"
    }
   },
   "source": [
    " What is the `review_scores_rating`? What would you expect it to be if there are no reviews?"
   ]
  },
  {
   "cell_type": "code",
   "execution_count": null,
   "metadata": {
    "slideshow": {
     "slide_type": "slide"
    }
   },
   "outputs": [],
   "source": [
    "# Your thoughts here...\n",
    "'''\n",
    "The review scores rating is a rating based on the score and number of reviews?\n",
    "If reviews are missing than the scores should be NA\n",
    "'''\n"
   ]
  },
  {
   "cell_type": "markdown",
   "metadata": {
    "slideshow": {
     "slide_type": "slide"
    }
   },
   "source": [
    "Some values for `number_of_reviews`, `reviews_per_month`, `review_scores_rating`, and `square_feet` do not hold, and corresponding rows needs to be dropped:\n",
    "\n",
    "* Drop rows with `NaN`s in `review_scores_rating`\n",
    "* Drop rows with `review_scores_rating` > 0 but `number_of_reviews` == 0"
   ]
  },
  {
   "cell_type": "code",
   "execution_count": 47,
   "metadata": {
    "slideshow": {
     "slide_type": "slide"
    }
   },
   "outputs": [],
   "source": [
    "# Drop rows with NaN in `review_scores_rating`\n",
    "# Your code here...\n",
    "data = data.dropna(subset=['review_scores_rating'])\n",
    "\n"
   ]
  },
  {
   "cell_type": "code",
   "execution_count": 48,
   "metadata": {
    "slideshow": {
     "slide_type": "slide"
    }
   },
   "outputs": [],
   "source": [
    "# Drop rows with `review_scores_rating` > 0 but `number_of_reviews` == 0\n",
    "# Your code here...\n",
    "data = data[~((data[\"number_of_reviews\"] == 0) & (data[\"review_scores_rating\"] == 0))]"
   ]
  },
  {
   "cell_type": "markdown",
   "metadata": {
    "slideshow": {
     "slide_type": "slide"
    }
   },
   "source": [
    "## Outliers\n",
    "\n",
    "Look again at a summary of the values..."
   ]
  },
  {
   "cell_type": "code",
   "execution_count": 49,
   "metadata": {
    "slideshow": {
     "slide_type": "slide"
    }
   },
   "outputs": [
    {
     "data": {
      "text/html": [
       "<div>\n",
       "<style scoped>\n",
       "    .dataframe tbody tr th:only-of-type {\n",
       "        vertical-align: middle;\n",
       "    }\n",
       "\n",
       "    .dataframe tbody tr th {\n",
       "        vertical-align: top;\n",
       "    }\n",
       "\n",
       "    .dataframe thead th {\n",
       "        text-align: right;\n",
       "    }\n",
       "</style>\n",
       "<table border=\"1\" class=\"dataframe\">\n",
       "  <thead>\n",
       "    <tr style=\"text-align: right;\">\n",
       "      <th></th>\n",
       "      <th>accommodates</th>\n",
       "      <th>bathrooms</th>\n",
       "      <th>bedrooms</th>\n",
       "      <th>price</th>\n",
       "      <th>review_scores_rating</th>\n",
       "      <th>square_feet</th>\n",
       "      <th>number_of_reviews</th>\n",
       "      <th>reviews_per_month</th>\n",
       "    </tr>\n",
       "  </thead>\n",
       "  <tbody>\n",
       "    <tr>\n",
       "      <th>count</th>\n",
       "      <td>402.000000</td>\n",
       "      <td>402.000000</td>\n",
       "      <td>402.000000</td>\n",
       "      <td>402.000000</td>\n",
       "      <td>402.000000</td>\n",
       "      <td>402.000000</td>\n",
       "      <td>402.000000</td>\n",
       "      <td>402.000000</td>\n",
       "    </tr>\n",
       "    <tr>\n",
       "      <th>mean</th>\n",
       "      <td>3.109453</td>\n",
       "      <td>1.146766</td>\n",
       "      <td>2.335821</td>\n",
       "      <td>243.788557</td>\n",
       "      <td>95.194030</td>\n",
       "      <td>602.365672</td>\n",
       "      <td>72.661692</td>\n",
       "      <td>6.055141</td>\n",
       "    </tr>\n",
       "    <tr>\n",
       "      <th>std</th>\n",
       "      <td>1.815137</td>\n",
       "      <td>0.378146</td>\n",
       "      <td>14.934075</td>\n",
       "      <td>1208.846245</td>\n",
       "      <td>3.838662</td>\n",
       "      <td>1423.872580</td>\n",
       "      <td>95.357654</td>\n",
       "      <td>7.946471</td>\n",
       "    </tr>\n",
       "    <tr>\n",
       "      <th>min</th>\n",
       "      <td>1.000000</td>\n",
       "      <td>1.000000</td>\n",
       "      <td>0.000000</td>\n",
       "      <td>28.000000</td>\n",
       "      <td>75.000000</td>\n",
       "      <td>0.000000</td>\n",
       "      <td>0.000000</td>\n",
       "      <td>0.000000</td>\n",
       "    </tr>\n",
       "    <tr>\n",
       "      <th>50%</th>\n",
       "      <td>2.000000</td>\n",
       "      <td>1.000000</td>\n",
       "      <td>1.000000</td>\n",
       "      <td>135.000000</td>\n",
       "      <td>96.000000</td>\n",
       "      <td>453.000000</td>\n",
       "      <td>37.000000</td>\n",
       "      <td>3.083333</td>\n",
       "    </tr>\n",
       "    <tr>\n",
       "      <th>99%</th>\n",
       "      <td>11.970000</td>\n",
       "      <td>2.495000</td>\n",
       "      <td>9.950000</td>\n",
       "      <td>694.050000</td>\n",
       "      <td>100.000000</td>\n",
       "      <td>2150.850000</td>\n",
       "      <td>429.870000</td>\n",
       "      <td>35.822500</td>\n",
       "    </tr>\n",
       "    <tr>\n",
       "      <th>max</th>\n",
       "      <td>16.000000</td>\n",
       "      <td>4.000000</td>\n",
       "      <td>300.000000</td>\n",
       "      <td>20000.000000</td>\n",
       "      <td>100.000000</td>\n",
       "      <td>22600.000000</td>\n",
       "      <td>570.000000</td>\n",
       "      <td>47.500000</td>\n",
       "    </tr>\n",
       "  </tbody>\n",
       "</table>\n",
       "</div>"
      ],
      "text/plain": [
       "       accommodates   bathrooms    bedrooms         price  \\\n",
       "count    402.000000  402.000000  402.000000    402.000000   \n",
       "mean       3.109453    1.146766    2.335821    243.788557   \n",
       "std        1.815137    0.378146   14.934075   1208.846245   \n",
       "min        1.000000    1.000000    0.000000     28.000000   \n",
       "50%        2.000000    1.000000    1.000000    135.000000   \n",
       "99%       11.970000    2.495000    9.950000    694.050000   \n",
       "max       16.000000    4.000000  300.000000  20000.000000   \n",
       "\n",
       "       review_scores_rating   square_feet  number_of_reviews  \\\n",
       "count            402.000000    402.000000         402.000000   \n",
       "mean              95.194030    602.365672          72.661692   \n",
       "std                3.838662   1423.872580          95.357654   \n",
       "min               75.000000      0.000000           0.000000   \n",
       "50%               96.000000    453.000000          37.000000   \n",
       "99%              100.000000   2150.850000         429.870000   \n",
       "max              100.000000  22600.000000         570.000000   \n",
       "\n",
       "       reviews_per_month  \n",
       "count         402.000000  \n",
       "mean            6.055141  \n",
       "std             7.946471  \n",
       "min             0.000000  \n",
       "50%             3.083333  \n",
       "99%            35.822500  \n",
       "max            47.500000  "
      ]
     },
     "execution_count": 49,
     "metadata": {},
     "output_type": "execute_result"
    }
   ],
   "source": [
    "data.describe(percentiles=[0.99])"
   ]
  },
  {
   "cell_type": "markdown",
   "metadata": {
    "slideshow": {
     "slide_type": "slide"
    }
   },
   "source": [
    "Are there any columns with suspicious values?"
   ]
  },
  {
   "cell_type": "code",
   "execution_count": null,
   "metadata": {
    "slideshow": {
     "slide_type": "slide"
    }
   },
   "outputs": [],
   "source": [
    "# Your thoughts here...\n",
    "# Bedrooms!\n"
   ]
  },
  {
   "cell_type": "markdown",
   "metadata": {
    "slideshow": {
     "slide_type": "slide"
    }
   },
   "source": [
    "### Visualising the data\n",
    "\n",
    "A boxplot quickly shows us the distribution of continuous variables. `seaborn` has a method for it."
   ]
  },
  {
   "cell_type": "code",
   "execution_count": null,
   "metadata": {
    "slideshow": {
     "slide_type": "slide"
    }
   },
   "outputs": [],
   "source": [
    "g = sns.boxplot(data=data)\n",
    "\n",
    "plt.xticks(rotation=90);"
   ]
  },
  {
   "cell_type": "markdown",
   "metadata": {
    "slideshow": {
     "slide_type": "slide"
    }
   },
   "source": [
    "### Removing outliers"
   ]
  },
  {
   "cell_type": "markdown",
   "metadata": {
    "slideshow": {
     "slide_type": "slide"
    }
   },
   "source": [
    "Using the zscore, find any rows where the value for `bedrooms`, `price` or `square_feet` is more than 3 standard deviations from the column mean.\n",
    "\n",
    "Print them out to see their values and then add the index of the row to the list `to_drop`.\n",
    "\n",
    "Then use that to drop the outliers.\n",
    "\n",
    "**IMPORTANT NOTE:** this is an exercise to show how outliers can be identified using the standard deviation. Dropping observations deemed to be outliers like this is **not advised**, unless you are **very clear** on the implications!"
   ]
  },
  {
   "cell_type": "code",
   "execution_count": 55,
   "metadata": {},
   "outputs": [
    {
     "data": {
      "text/html": [
       "<div>\n",
       "<style scoped>\n",
       "    .dataframe tbody tr th:only-of-type {\n",
       "        vertical-align: middle;\n",
       "    }\n",
       "\n",
       "    .dataframe tbody tr th {\n",
       "        vertical-align: top;\n",
       "    }\n",
       "\n",
       "    .dataframe thead th {\n",
       "        text-align: right;\n",
       "    }\n",
       "</style>\n",
       "<table border=\"1\" class=\"dataframe\">\n",
       "  <thead>\n",
       "    <tr style=\"text-align: right;\">\n",
       "      <th></th>\n",
       "      <th>square_feet</th>\n",
       "    </tr>\n",
       "  </thead>\n",
       "  <tbody>\n",
       "    <tr>\n",
       "      <th>1</th>\n",
       "      <td>0.069516</td>\n",
       "    </tr>\n",
       "    <tr>\n",
       "      <th>2</th>\n",
       "      <td>-0.082025</td>\n",
       "    </tr>\n",
       "    <tr>\n",
       "      <th>3</th>\n",
       "      <td>0.084249</td>\n",
       "    </tr>\n",
       "    <tr>\n",
       "      <th>4</th>\n",
       "      <td>0.635691</td>\n",
       "    </tr>\n",
       "    <tr>\n",
       "      <th>5</th>\n",
       "      <td>15.434121</td>\n",
       "    </tr>\n",
       "    <tr>\n",
       "      <th>...</th>\n",
       "      <td>...</td>\n",
       "    </tr>\n",
       "    <tr>\n",
       "      <th>404</th>\n",
       "      <td>-0.157094</td>\n",
       "    </tr>\n",
       "    <tr>\n",
       "      <th>405</th>\n",
       "      <td>-0.421590</td>\n",
       "    </tr>\n",
       "    <tr>\n",
       "      <th>406</th>\n",
       "      <td>-0.421590</td>\n",
       "    </tr>\n",
       "    <tr>\n",
       "      <th>407</th>\n",
       "      <td>-0.421590</td>\n",
       "    </tr>\n",
       "    <tr>\n",
       "      <th>408</th>\n",
       "      <td>-0.421590</td>\n",
       "    </tr>\n",
       "  </tbody>\n",
       "</table>\n",
       "<p>401 rows × 1 columns</p>\n",
       "</div>"
      ],
      "text/plain": [
       "     square_feet\n",
       "1       0.069516\n",
       "2      -0.082025\n",
       "3       0.084249\n",
       "4       0.635691\n",
       "5      15.434121\n",
       "..           ...\n",
       "404    -0.157094\n",
       "405    -0.421590\n",
       "406    -0.421590\n",
       "407    -0.421590\n",
       "408    -0.421590\n",
       "\n",
       "[401 rows x 1 columns]"
      ]
     },
     "execution_count": 55,
     "metadata": {},
     "output_type": "execute_result"
    }
   ],
   "source": [
    "x"
   ]
  },
  {
   "cell_type": "code",
   "execution_count": 52,
   "metadata": {
    "slideshow": {
     "slide_type": "slide"
    }
   },
   "outputs": [
    {
     "data": {
      "text/html": [
       "<div>\n",
       "<style scoped>\n",
       "    .dataframe tbody tr th:only-of-type {\n",
       "        vertical-align: middle;\n",
       "    }\n",
       "\n",
       "    .dataframe tbody tr th {\n",
       "        vertical-align: top;\n",
       "    }\n",
       "\n",
       "    .dataframe thead th {\n",
       "        text-align: right;\n",
       "    }\n",
       "</style>\n",
       "<table border=\"1\" class=\"dataframe\">\n",
       "  <thead>\n",
       "    <tr style=\"text-align: right;\">\n",
       "      <th></th>\n",
       "      <th>host_neighbourhood</th>\n",
       "      <th>accommodates</th>\n",
       "      <th>bathrooms</th>\n",
       "      <th>bedrooms</th>\n",
       "      <th>price</th>\n",
       "      <th>review_scores_rating</th>\n",
       "      <th>square_feet</th>\n",
       "      <th>number_of_reviews</th>\n",
       "      <th>reviews_per_month</th>\n",
       "    </tr>\n",
       "  </thead>\n",
       "  <tbody>\n",
       "    <tr>\n",
       "      <th>1</th>\n",
       "      <td>Grachtengordel</td>\n",
       "      <td>2</td>\n",
       "      <td>1.0</td>\n",
       "      <td>1</td>\n",
       "      <td>100</td>\n",
       "      <td>80.0</td>\n",
       "      <td>700</td>\n",
       "      <td>61</td>\n",
       "      <td>5.083333</td>\n",
       "    </tr>\n",
       "    <tr>\n",
       "      <th>2</th>\n",
       "      <td>Grachtengordel</td>\n",
       "      <td>4</td>\n",
       "      <td>1.0</td>\n",
       "      <td>2</td>\n",
       "      <td>200</td>\n",
       "      <td>94.0</td>\n",
       "      <td>484</td>\n",
       "      <td>30</td>\n",
       "      <td>2.500000</td>\n",
       "    </tr>\n",
       "    <tr>\n",
       "      <th>3</th>\n",
       "      <td>Bos en Lommer</td>\n",
       "      <td>2</td>\n",
       "      <td>1.0</td>\n",
       "      <td>1</td>\n",
       "      <td>150</td>\n",
       "      <td>93.0</td>\n",
       "      <td>721</td>\n",
       "      <td>3</td>\n",
       "      <td>0.250000</td>\n",
       "    </tr>\n",
       "    <tr>\n",
       "      <th>4</th>\n",
       "      <td>Grachtengordel</td>\n",
       "      <td>6</td>\n",
       "      <td>2.0</td>\n",
       "      <td>3</td>\n",
       "      <td>420</td>\n",
       "      <td>98.0</td>\n",
       "      <td>1507</td>\n",
       "      <td>318</td>\n",
       "      <td>26.500000</td>\n",
       "    </tr>\n",
       "    <tr>\n",
       "      <th>5</th>\n",
       "      <td>Jordaan</td>\n",
       "      <td>2</td>\n",
       "      <td>1.5</td>\n",
       "      <td>1</td>\n",
       "      <td>78</td>\n",
       "      <td>93.0</td>\n",
       "      <td>22600</td>\n",
       "      <td>74</td>\n",
       "      <td>6.166667</td>\n",
       "    </tr>\n",
       "    <tr>\n",
       "      <th>...</th>\n",
       "      <td>...</td>\n",
       "      <td>...</td>\n",
       "      <td>...</td>\n",
       "      <td>...</td>\n",
       "      <td>...</td>\n",
       "      <td>...</td>\n",
       "      <td>...</td>\n",
       "      <td>...</td>\n",
       "      <td>...</td>\n",
       "    </tr>\n",
       "    <tr>\n",
       "      <th>404</th>\n",
       "      <td>Oud-West</td>\n",
       "      <td>2</td>\n",
       "      <td>1.0</td>\n",
       "      <td>0</td>\n",
       "      <td>135</td>\n",
       "      <td>98.0</td>\n",
       "      <td>377</td>\n",
       "      <td>51</td>\n",
       "      <td>4.250000</td>\n",
       "    </tr>\n",
       "    <tr>\n",
       "      <th>405</th>\n",
       "      <td>Grachtengordel</td>\n",
       "      <td>2</td>\n",
       "      <td>1.0</td>\n",
       "      <td>2</td>\n",
       "      <td>120</td>\n",
       "      <td>97.0</td>\n",
       "      <td>0</td>\n",
       "      <td>30</td>\n",
       "      <td>2.500000</td>\n",
       "    </tr>\n",
       "    <tr>\n",
       "      <th>406</th>\n",
       "      <td>Grachtengordel</td>\n",
       "      <td>2</td>\n",
       "      <td>1.0</td>\n",
       "      <td>1</td>\n",
       "      <td>100</td>\n",
       "      <td>100.0</td>\n",
       "      <td>0</td>\n",
       "      <td>12</td>\n",
       "      <td>1.000000</td>\n",
       "    </tr>\n",
       "    <tr>\n",
       "      <th>407</th>\n",
       "      <td>Oosterparkbuurt</td>\n",
       "      <td>4</td>\n",
       "      <td>1.0</td>\n",
       "      <td>4</td>\n",
       "      <td>152</td>\n",
       "      <td>90.0</td>\n",
       "      <td>0</td>\n",
       "      <td>2</td>\n",
       "      <td>0.166667</td>\n",
       "    </tr>\n",
       "    <tr>\n",
       "      <th>408</th>\n",
       "      <td>Oud-West</td>\n",
       "      <td>2</td>\n",
       "      <td>1.0</td>\n",
       "      <td>1</td>\n",
       "      <td>96</td>\n",
       "      <td>95.0</td>\n",
       "      <td>0</td>\n",
       "      <td>24</td>\n",
       "      <td>2.000000</td>\n",
       "    </tr>\n",
       "  </tbody>\n",
       "</table>\n",
       "<p>397 rows × 9 columns</p>\n",
       "</div>"
      ],
      "text/plain": [
       "    host_neighbourhood  accommodates  bathrooms  bedrooms  price  \\\n",
       "1       Grachtengordel             2        1.0         1    100   \n",
       "2       Grachtengordel             4        1.0         2    200   \n",
       "3        Bos en Lommer             2        1.0         1    150   \n",
       "4       Grachtengordel             6        2.0         3    420   \n",
       "5              Jordaan             2        1.5         1     78   \n",
       "..                 ...           ...        ...       ...    ...   \n",
       "404           Oud-West             2        1.0         0    135   \n",
       "405     Grachtengordel             2        1.0         2    120   \n",
       "406     Grachtengordel             2        1.0         1    100   \n",
       "407    Oosterparkbuurt             4        1.0         4    152   \n",
       "408           Oud-West             2        1.0         1     96   \n",
       "\n",
       "     review_scores_rating  square_feet  number_of_reviews  reviews_per_month  \n",
       "1                    80.0          700                 61           5.083333  \n",
       "2                    94.0          484                 30           2.500000  \n",
       "3                    93.0          721                  3           0.250000  \n",
       "4                    98.0         1507                318          26.500000  \n",
       "5                    93.0        22600                 74           6.166667  \n",
       "..                    ...          ...                ...                ...  \n",
       "404                  98.0          377                 51           4.250000  \n",
       "405                  97.0            0                 30           2.500000  \n",
       "406                 100.0            0                 12           1.000000  \n",
       "407                  90.0            0                  2           0.166667  \n",
       "408                  95.0            0                 24           2.000000  \n",
       "\n",
       "[397 rows x 9 columns]"
      ]
     },
     "execution_count": 52,
     "metadata": {},
     "output_type": "execute_result"
    }
   ],
   "source": [
    "def zscore(sample):\n",
    "    \n",
    "    mean = sample.mean()\n",
    "    std = sample.std()\n",
    "    \n",
    "    return (sample - mean) / std\n",
    "\n",
    "to_drop = []\n",
    "# Your code here...\n",
    "x = data[['bedrooms']].apply(zscore)[['bedrooms']] \n",
    "to_drop.append(x[(x[\"bedrooms\"] <= -3) | (x[\"bedrooms\"] >= 3)].index.tolist())\n",
    "x = data[['price']].apply(zscore)[['price']] \n",
    "to_drop.append(x[(x[\"price\"] <= -3) | (x[\"price\"] >= 3)].index.tolist())\n",
    "x = data[['square_feet']].apply(zscore)[['square_feet']] \n",
    "to_drop.append(x[(x[\"square_feet\"] <= -3) | (x[\"square_feet\"] >= 3)].index.tolist())\n",
    "\n",
    "# Drop rows with matching index to to_drop\n",
    "# Your code here...\n",
    "data = data.drop(to_drop[0])\n",
    "data"
   ]
  },
  {
   "cell_type": "markdown",
   "metadata": {
    "slideshow": {
     "slide_type": "slide"
    }
   },
   "source": [
    "The box plots should look a bit more reasonable now."
   ]
  },
  {
   "cell_type": "code",
   "execution_count": 54,
   "metadata": {
    "scrolled": true,
    "slideshow": {
     "slide_type": "slide"
    }
   },
   "outputs": [
    {
     "name": "stderr",
     "output_type": "stream",
     "text": [
      "c:\\Users\\valere.demelier\\AppData\\Local\\Programs\\Python\\Python311\\Lib\\site-packages\\seaborn\\_oldcore.py:1498: FutureWarning: is_categorical_dtype is deprecated and will be removed in a future version. Use isinstance(dtype, CategoricalDtype) instead\n",
      "  if pd.api.types.is_categorical_dtype(vector):\n",
      "c:\\Users\\valere.demelier\\AppData\\Local\\Programs\\Python\\Python311\\Lib\\site-packages\\seaborn\\_oldcore.py:1498: FutureWarning: is_categorical_dtype is deprecated and will be removed in a future version. Use isinstance(dtype, CategoricalDtype) instead\n",
      "  if pd.api.types.is_categorical_dtype(vector):\n",
      "c:\\Users\\valere.demelier\\AppData\\Local\\Programs\\Python\\Python311\\Lib\\site-packages\\seaborn\\_oldcore.py:1498: FutureWarning: is_categorical_dtype is deprecated and will be removed in a future version. Use isinstance(dtype, CategoricalDtype) instead\n",
      "  if pd.api.types.is_categorical_dtype(vector):\n",
      "c:\\Users\\valere.demelier\\AppData\\Local\\Programs\\Python\\Python311\\Lib\\site-packages\\seaborn\\_oldcore.py:1498: FutureWarning: is_categorical_dtype is deprecated and will be removed in a future version. Use isinstance(dtype, CategoricalDtype) instead\n",
      "  if pd.api.types.is_categorical_dtype(vector):\n",
      "c:\\Users\\valere.demelier\\AppData\\Local\\Programs\\Python\\Python311\\Lib\\site-packages\\seaborn\\_oldcore.py:1498: FutureWarning: is_categorical_dtype is deprecated and will be removed in a future version. Use isinstance(dtype, CategoricalDtype) instead\n",
      "  if pd.api.types.is_categorical_dtype(vector):\n",
      "c:\\Users\\valere.demelier\\AppData\\Local\\Programs\\Python\\Python311\\Lib\\site-packages\\seaborn\\_oldcore.py:1498: FutureWarning: is_categorical_dtype is deprecated and will be removed in a future version. Use isinstance(dtype, CategoricalDtype) instead\n",
      "  if pd.api.types.is_categorical_dtype(vector):\n",
      "c:\\Users\\valere.demelier\\AppData\\Local\\Programs\\Python\\Python311\\Lib\\site-packages\\seaborn\\_oldcore.py:1498: FutureWarning: is_categorical_dtype is deprecated and will be removed in a future version. Use isinstance(dtype, CategoricalDtype) instead\n",
      "  if pd.api.types.is_categorical_dtype(vector):\n",
      "c:\\Users\\valere.demelier\\AppData\\Local\\Programs\\Python\\Python311\\Lib\\site-packages\\seaborn\\_oldcore.py:1498: FutureWarning: is_categorical_dtype is deprecated and will be removed in a future version. Use isinstance(dtype, CategoricalDtype) instead\n",
      "  if pd.api.types.is_categorical_dtype(vector):\n",
      "c:\\Users\\valere.demelier\\AppData\\Local\\Programs\\Python\\Python311\\Lib\\site-packages\\seaborn\\_oldcore.py:1498: FutureWarning: is_categorical_dtype is deprecated and will be removed in a future version. Use isinstance(dtype, CategoricalDtype) instead\n",
      "  if pd.api.types.is_categorical_dtype(vector):\n"
     ]
    },
    {
     "data": {
      "image/png": "[encoded data removed]",
      "text/plain": [
       "<Figure size 640x480 with 1 Axes>"
      ]
     },
     "metadata": {},
     "output_type": "display_data"
    }
   ],
   "source": [
    "g = sns.boxplot(data=data)\n",
    "\n",
    "plt.xticks(rotation=90);"
   ]
  },
  {
   "cell_type": "markdown",
   "metadata": {
    "slideshow": {
     "slide_type": "slide"
    }
   },
   "source": [
    "## Normalising and standardising\n",
    "\n",
    "The scales of the variables are still very different. Should you normalise or standardise the data?\n",
    "\n",
    "Recall that standardisation rescales each variable based on its overall mean and standard deviation. Normalisation rescales each variable to be between 0 and 1.\n",
    "\n",
    "Let's see what each one looks like when applied.\n",
    "\n",
    "Using `sklearn.preprocessing.StandardScaler` and `sklearn.preprocessing.MinMaxScaler`, fit and transform the continuous variables.\n",
    "\n",
    "Then, view their new values as a boxplot using the same command as above."
   ]
  },
  {
   "cell_type": "code",
   "execution_count": 56,
   "metadata": {
    "slideshow": {
     "slide_type": "slide"
    }
   },
   "outputs": [],
   "source": [
    "cont_vars = ['accommodates', 'bathrooms', 'bedrooms', 'price',\n",
    "             'review_scores_rating', 'square_feet', 'number_of_reviews',\n",
    "             'reviews_per_month']"
   ]
  },
  {
   "cell_type": "code",
   "execution_count": 58,
   "metadata": {
    "slideshow": {
     "slide_type": "slide"
    }
   },
   "outputs": [],
   "source": [
    "from sklearn.preprocessing import StandardScaler\n",
    "\n",
    "stander = StandardScaler()\n",
    "\n",
    "# Your code here...\n",
    "# fit transform the data\n",
    "standard = stander.fit_transform(data[cont_vars])\n"
   ]
  },
  {
   "cell_type": "code",
   "execution_count": 59,
   "metadata": {
    "slideshow": {
     "slide_type": "slide"
    }
   },
   "outputs": [],
   "source": [
    "from sklearn.preprocessing import  MinMaxScaler\n",
    "\n",
    "normer = MinMaxScaler()\n",
    "\n",
    "# Your code here...\n",
    "min_max = normer.fit_transform(data[cont_vars])"
   ]
  },
  {
   "cell_type": "markdown",
   "metadata": {
    "slideshow": {
     "slide_type": "slide"
    }
   },
   "source": [
    "## Encoding discrete variables\n",
    "\n",
    "In the last part of this practical, we look at the `host_neighbourhood` variable. This is a discrete nominal variable, which is easy to read and understand for us but cannot be processed as is by a machine learning model.\n",
    "\n",
    "### Using discrete variables as features\n",
    "\n",
    "To use `host_neighbourhood` as a feature in a model (for instance to predict the value for `price`), it needs to be transformed into a vector representation.\n",
    "\n",
    "Use `pandas.get_dummies()` to get a vectorized form of `host_neighbourhood`.\n",
    "\n",
    "This function lets you set a `prefix` for the new columns it creates. Since the default (`host_neighbourhood`) is a bit long, set it to something shorter."
   ]
  },
  {
   "cell_type": "code",
   "execution_count": 63,
   "metadata": {
    "slideshow": {
     "slide_type": "slide"
    }
   },
   "outputs": [
    {
     "data": {
      "text/html": [
       "<div>\n",
       "<style scoped>\n",
       "    .dataframe tbody tr th:only-of-type {\n",
       "        vertical-align: middle;\n",
       "    }\n",
       "\n",
       "    .dataframe tbody tr th {\n",
       "        vertical-align: top;\n",
       "    }\n",
       "\n",
       "    .dataframe thead th {\n",
       "        text-align: right;\n",
       "    }\n",
       "</style>\n",
       "<table border=\"1\" class=\"dataframe\">\n",
       "  <thead>\n",
       "    <tr style=\"text-align: right;\">\n",
       "      <th></th>\n",
       "      <th>accommodates</th>\n",
       "      <th>bathrooms</th>\n",
       "      <th>bedrooms</th>\n",
       "      <th>price</th>\n",
       "      <th>review_scores_rating</th>\n",
       "      <th>square_feet</th>\n",
       "      <th>number_of_reviews</th>\n",
       "      <th>reviews_per_month</th>\n",
       "      <th>V_Bos en Lommer</th>\n",
       "      <th>V_De Pijp</th>\n",
       "      <th>V_Grachtengordel</th>\n",
       "      <th>V_Indische Buurt</th>\n",
       "      <th>V_Jordaan</th>\n",
       "      <th>V_Oost</th>\n",
       "      <th>V_Oosterparkbuurt</th>\n",
       "      <th>V_Oud-West</th>\n",
       "      <th>V_Rivierenbuurt</th>\n",
       "    </tr>\n",
       "  </thead>\n",
       "  <tbody>\n",
       "    <tr>\n",
       "      <th>1</th>\n",
       "      <td>2</td>\n",
       "      <td>1.0</td>\n",
       "      <td>1</td>\n",
       "      <td>100</td>\n",
       "      <td>80.0</td>\n",
       "      <td>700</td>\n",
       "      <td>61</td>\n",
       "      <td>5.083333</td>\n",
       "      <td>False</td>\n",
       "      <td>False</td>\n",
       "      <td>True</td>\n",
       "      <td>False</td>\n",
       "      <td>False</td>\n",
       "      <td>False</td>\n",
       "      <td>False</td>\n",
       "      <td>False</td>\n",
       "      <td>False</td>\n",
       "    </tr>\n",
       "    <tr>\n",
       "      <th>2</th>\n",
       "      <td>4</td>\n",
       "      <td>1.0</td>\n",
       "      <td>2</td>\n",
       "      <td>200</td>\n",
       "      <td>94.0</td>\n",
       "      <td>484</td>\n",
       "      <td>30</td>\n",
       "      <td>2.500000</td>\n",
       "      <td>False</td>\n",
       "      <td>False</td>\n",
       "      <td>True</td>\n",
       "      <td>False</td>\n",
       "      <td>False</td>\n",
       "      <td>False</td>\n",
       "      <td>False</td>\n",
       "      <td>False</td>\n",
       "      <td>False</td>\n",
       "    </tr>\n",
       "    <tr>\n",
       "      <th>3</th>\n",
       "      <td>2</td>\n",
       "      <td>1.0</td>\n",
       "      <td>1</td>\n",
       "      <td>150</td>\n",
       "      <td>93.0</td>\n",
       "      <td>721</td>\n",
       "      <td>3</td>\n",
       "      <td>0.250000</td>\n",
       "      <td>True</td>\n",
       "      <td>False</td>\n",
       "      <td>False</td>\n",
       "      <td>False</td>\n",
       "      <td>False</td>\n",
       "      <td>False</td>\n",
       "      <td>False</td>\n",
       "      <td>False</td>\n",
       "      <td>False</td>\n",
       "    </tr>\n",
       "    <tr>\n",
       "      <th>4</th>\n",
       "      <td>6</td>\n",
       "      <td>2.0</td>\n",
       "      <td>3</td>\n",
       "      <td>420</td>\n",
       "      <td>98.0</td>\n",
       "      <td>1507</td>\n",
       "      <td>318</td>\n",
       "      <td>26.500000</td>\n",
       "      <td>False</td>\n",
       "      <td>False</td>\n",
       "      <td>True</td>\n",
       "      <td>False</td>\n",
       "      <td>False</td>\n",
       "      <td>False</td>\n",
       "      <td>False</td>\n",
       "      <td>False</td>\n",
       "      <td>False</td>\n",
       "    </tr>\n",
       "    <tr>\n",
       "      <th>5</th>\n",
       "      <td>2</td>\n",
       "      <td>1.5</td>\n",
       "      <td>1</td>\n",
       "      <td>78</td>\n",
       "      <td>93.0</td>\n",
       "      <td>22600</td>\n",
       "      <td>74</td>\n",
       "      <td>6.166667</td>\n",
       "      <td>False</td>\n",
       "      <td>False</td>\n",
       "      <td>False</td>\n",
       "      <td>False</td>\n",
       "      <td>True</td>\n",
       "      <td>False</td>\n",
       "      <td>False</td>\n",
       "      <td>False</td>\n",
       "      <td>False</td>\n",
       "    </tr>\n",
       "    <tr>\n",
       "      <th>...</th>\n",
       "      <td>...</td>\n",
       "      <td>...</td>\n",
       "      <td>...</td>\n",
       "      <td>...</td>\n",
       "      <td>...</td>\n",
       "      <td>...</td>\n",
       "      <td>...</td>\n",
       "      <td>...</td>\n",
       "      <td>...</td>\n",
       "      <td>...</td>\n",
       "      <td>...</td>\n",
       "      <td>...</td>\n",
       "      <td>...</td>\n",
       "      <td>...</td>\n",
       "      <td>...</td>\n",
       "      <td>...</td>\n",
       "      <td>...</td>\n",
       "    </tr>\n",
       "    <tr>\n",
       "      <th>404</th>\n",
       "      <td>2</td>\n",
       "      <td>1.0</td>\n",
       "      <td>0</td>\n",
       "      <td>135</td>\n",
       "      <td>98.0</td>\n",
       "      <td>377</td>\n",
       "      <td>51</td>\n",
       "      <td>4.250000</td>\n",
       "      <td>False</td>\n",
       "      <td>False</td>\n",
       "      <td>False</td>\n",
       "      <td>False</td>\n",
       "      <td>False</td>\n",
       "      <td>False</td>\n",
       "      <td>False</td>\n",
       "      <td>True</td>\n",
       "      <td>False</td>\n",
       "    </tr>\n",
       "    <tr>\n",
       "      <th>405</th>\n",
       "      <td>2</td>\n",
       "      <td>1.0</td>\n",
       "      <td>2</td>\n",
       "      <td>120</td>\n",
       "      <td>97.0</td>\n",
       "      <td>0</td>\n",
       "      <td>30</td>\n",
       "      <td>2.500000</td>\n",
       "      <td>False</td>\n",
       "      <td>False</td>\n",
       "      <td>True</td>\n",
       "      <td>False</td>\n",
       "      <td>False</td>\n",
       "      <td>False</td>\n",
       "      <td>False</td>\n",
       "      <td>False</td>\n",
       "      <td>False</td>\n",
       "    </tr>\n",
       "    <tr>\n",
       "      <th>406</th>\n",
       "      <td>2</td>\n",
       "      <td>1.0</td>\n",
       "      <td>1</td>\n",
       "      <td>100</td>\n",
       "      <td>100.0</td>\n",
       "      <td>0</td>\n",
       "      <td>12</td>\n",
       "      <td>1.000000</td>\n",
       "      <td>False</td>\n",
       "      <td>False</td>\n",
       "      <td>True</td>\n",
       "      <td>False</td>\n",
       "      <td>False</td>\n",
       "      <td>False</td>\n",
       "      <td>False</td>\n",
       "      <td>False</td>\n",
       "      <td>False</td>\n",
       "    </tr>\n",
       "    <tr>\n",
       "      <th>407</th>\n",
       "      <td>4</td>\n",
       "      <td>1.0</td>\n",
       "      <td>4</td>\n",
       "      <td>152</td>\n",
       "      <td>90.0</td>\n",
       "      <td>0</td>\n",
       "      <td>2</td>\n",
       "      <td>0.166667</td>\n",
       "      <td>False</td>\n",
       "      <td>False</td>\n",
       "      <td>False</td>\n",
       "      <td>False</td>\n",
       "      <td>False</td>\n",
       "      <td>False</td>\n",
       "      <td>True</td>\n",
       "      <td>False</td>\n",
       "      <td>False</td>\n",
       "    </tr>\n",
       "    <tr>\n",
       "      <th>408</th>\n",
       "      <td>2</td>\n",
       "      <td>1.0</td>\n",
       "      <td>1</td>\n",
       "      <td>96</td>\n",
       "      <td>95.0</td>\n",
       "      <td>0</td>\n",
       "      <td>24</td>\n",
       "      <td>2.000000</td>\n",
       "      <td>False</td>\n",
       "      <td>False</td>\n",
       "      <td>False</td>\n",
       "      <td>False</td>\n",
       "      <td>False</td>\n",
       "      <td>False</td>\n",
       "      <td>False</td>\n",
       "      <td>True</td>\n",
       "      <td>False</td>\n",
       "    </tr>\n",
       "  </tbody>\n",
       "</table>\n",
       "<p>397 rows × 17 columns</p>\n",
       "</div>"
      ],
      "text/plain": [
       "     accommodates  bathrooms  bedrooms  price  review_scores_rating  \\\n",
       "1               2        1.0         1    100                  80.0   \n",
       "2               4        1.0         2    200                  94.0   \n",
       "3               2        1.0         1    150                  93.0   \n",
       "4               6        2.0         3    420                  98.0   \n",
       "5               2        1.5         1     78                  93.0   \n",
       "..            ...        ...       ...    ...                   ...   \n",
       "404             2        1.0         0    135                  98.0   \n",
       "405             2        1.0         2    120                  97.0   \n",
       "406             2        1.0         1    100                 100.0   \n",
       "407             4        1.0         4    152                  90.0   \n",
       "408             2        1.0         1     96                  95.0   \n",
       "\n",
       "     square_feet  number_of_reviews  reviews_per_month  V_Bos en Lommer  \\\n",
       "1            700                 61           5.083333            False   \n",
       "2            484                 30           2.500000            False   \n",
       "3            721                  3           0.250000             True   \n",
       "4           1507                318          26.500000            False   \n",
       "5          22600                 74           6.166667            False   \n",
       "..           ...                ...                ...              ...   \n",
       "404          377                 51           4.250000            False   \n",
       "405            0                 30           2.500000            False   \n",
       "406            0                 12           1.000000            False   \n",
       "407            0                  2           0.166667            False   \n",
       "408            0                 24           2.000000            False   \n",
       "\n",
       "     V_De Pijp  V_Grachtengordel  V_Indische Buurt  V_Jordaan  V_Oost  \\\n",
       "1        False              True             False      False   False   \n",
       "2        False              True             False      False   False   \n",
       "3        False             False             False      False   False   \n",
       "4        False              True             False      False   False   \n",
       "5        False             False             False       True   False   \n",
       "..         ...               ...               ...        ...     ...   \n",
       "404      False             False             False      False   False   \n",
       "405      False              True             False      False   False   \n",
       "406      False              True             False      False   False   \n",
       "407      False             False             False      False   False   \n",
       "408      False             False             False      False   False   \n",
       "\n",
       "     V_Oosterparkbuurt  V_Oud-West  V_Rivierenbuurt  \n",
       "1                False       False            False  \n",
       "2                False       False            False  \n",
       "3                False       False            False  \n",
       "4                False       False            False  \n",
       "5                False       False            False  \n",
       "..                 ...         ...              ...  \n",
       "404              False        True            False  \n",
       "405              False       False            False  \n",
       "406              False       False            False  \n",
       "407               True       False            False  \n",
       "408              False        True            False  \n",
       "\n",
       "[397 rows x 17 columns]"
      ]
     },
     "execution_count": 63,
     "metadata": {},
     "output_type": "execute_result"
    }
   ],
   "source": [
    "from pandas import get_dummies\n",
    "# Your code here...\n",
    "# one hot encode the data\n",
    "one_hot = get_dummies(data, columns = [\"host_neighbourhood\"], prefix=\"V\")\n",
    "one_hot"
   ]
  },
  {
   "cell_type": "markdown",
   "metadata": {
    "slideshow": {
     "slide_type": "slide"
    }
   },
   "source": [
    "### Using discrete variables as targets\n",
    "\n",
    "`get_dummies()` is good if you want to one-hot encode input features. There are instances however where you wish to obtain a numerical labels (often the case for the categorical output of a model).\n",
    "\n",
    "Most machine learning packages convert categorical output variables of type string into numerical labels automatically.\n",
    "\n",
    "For instance, you can use pandas series's method `.astype()` to obtain numerical catgeorical labels:"
   ]
  },
  {
   "cell_type": "code",
   "execution_count": 64,
   "metadata": {
    "scrolled": true,
    "slideshow": {
     "slide_type": "slide"
    }
   },
   "outputs": [
    {
     "data": {
      "text/plain": [
       "1      2\n",
       "2      2\n",
       "3      0\n",
       "4      2\n",
       "5      4\n",
       "      ..\n",
       "404    7\n",
       "405    2\n",
       "406    2\n",
       "407    6\n",
       "408    7\n",
       "Length: 397, dtype: int8"
      ]
     },
     "execution_count": 64,
     "metadata": {},
     "output_type": "execute_result"
    }
   ],
   "source": [
    "data.host_neighbourhood.astype('category').cat.codes"
   ]
  },
  {
   "cell_type": "markdown",
   "metadata": {
    "slideshow": {
     "slide_type": "slide"
    }
   },
   "source": [
    "# Next steps\n",
    "\n",
    "* Apply these ideas to your own data, where you have a better understanding of what should be done with `NaN`s, zeroes and so on.\n",
    "* Train some simple models using original features, standardised features and normalised features - what happens to model performance in each case?\n",
    "* We used `pandas` functionality here for one-hot encoding, because it works easily on a single column of data, but try `sklearn.preprocessing.OneHotEncoder`, which expects multiple columns or data to be reshaped first."
   ]
  }
 ],
 "metadata": {
  "kernelspec": {
   "display_name": "Python 3 (ipykernel)",
   "language": "python",
   "name": "python3"
  },
  "language_info": {
   "codemirror_mode": {
    "name": "ipython",
    "version": 3
   },
   "file_extension": ".py",
   "mimetype": "text/x-python",
   "name": "python",
   "nbconvert_exporter": "python",
   "pygments_lexer": "ipython3",
   "version": "3.11.6"
  },
  "vscode": {
   "interpreter": {
    "hash": "b76fd85120666f0bd55f9d97940fbf0e5470387377d9c5f936b61d77d81d2f47"
   }
  }
 },
 "nbformat": 4,
 "nbformat_minor": 2
}
